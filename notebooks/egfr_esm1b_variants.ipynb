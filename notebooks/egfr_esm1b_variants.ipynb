{
 "cells": [
  {
   "cell_type": "markdown",
   "metadata": {},
   "source": [
    "## Load libraries"
   ]
  },
  {
   "cell_type": "code",
   "execution_count": null,
   "metadata": {},
   "outputs": [],
   "source": [
    "import matplotlib.pyplot as plt\n",
    "import seaborn as sns"
   ]
  },
  {
   "cell_type": "markdown",
   "metadata": {},
   "source": [
    "## ESM pathogenicity prediction"
   ]
  },
  {
   "cell_type": "code",
   "execution_count": null,
   "metadata": {},
   "outputs": [
    {
     "name": "stdout",
     "output_type": "stream",
     "text": [
      "Using GPU.\n",
      "Loading the model (esm1b_t33_650M_UR50S)...\n",
      "Downloading: \"https://github.com/facebookresearch/esm/zipball/main\" to /home/crowfoot2/.cache/torch/hub/main.zip\n",
      "Downloading: \"https://dl.fbaipublicfiles.com/fair-esm/models/esm1b_t33_650M_UR50S.pt\" to /home/crowfoot2/.cache/torch/hub/checkpoints/esm1b_t33_650M_UR50S.pt\n",
      "Downloading: \"https://dl.fbaipublicfiles.com/fair-esm/regression/esm1b_t33_650M_UR50S-contact-regression.pt\" to /home/crowfoot2/.cache/torch/hub/checkpoints/esm1b_t33_650M_UR50S-contact-regression.pt\n",
      "Invoking the model...\n",
      "100%|█████████████████████████████████████████████| 1/1 [00:00<00:00,  1.91it/s]\n",
      "Saving results...\n",
      "Done.\n"
     ]
    }
   ],
   "source": [
    "!python3 ./../z.others/esm-variants/esm_score_missense_mutations.py --input-fasta-file ./../data/egfr.fasta --output-csv-file ./../predictions/output.csv"
   ]
  },
  {
   "cell_type": "markdown",
   "metadata": {},
   "source": [
    "Heatmap  visualization"
   ]
  }
 ],
 "metadata": {
  "kernelspec": {
   "display_name": "esm",
   "language": "python",
   "name": "python3"
  },
  "language_info": {
   "codemirror_mode": {
    "name": "ipython",
    "version": 3
   },
   "file_extension": ".py",
   "mimetype": "text/x-python",
   "name": "python",
   "nbconvert_exporter": "python",
   "pygments_lexer": "ipython3",
   "version": "3.12.8"
  }
 },
 "nbformat": 4,
 "nbformat_minor": 2
}
